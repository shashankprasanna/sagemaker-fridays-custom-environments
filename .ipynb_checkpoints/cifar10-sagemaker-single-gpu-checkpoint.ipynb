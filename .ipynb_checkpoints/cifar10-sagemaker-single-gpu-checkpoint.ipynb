{
 "cells": [
  {
   "cell_type": "markdown",
   "metadata": {},
   "source": [
    "# ***Demo: Amazon SageMaker Script Mode and Custom Container***"
   ]
  },
  {
   "cell_type": "code",
   "execution_count": 2,
   "metadata": {
    "tags": []
   },
   "outputs": [
    {
     "name": "stdout",
     "output_type": "stream",
     "text": [
      "/bin/bash: switchml: line 1: syntax error: unexpected end of file\n",
      "/bin/bash: error importing function definition for `switchml'\n",
      "/bin/bash: _moduleraw: line 1: syntax error: unexpected end of file\n",
      "/bin/bash: error importing function definition for `_moduleraw'\n",
      "/bin/bash: switchml: line 1: syntax error: unexpected end of file\n",
      "/bin/bash: error importing function definition for `switchml'\n",
      "/bin/bash: _moduleraw: line 1: syntax error: unexpected end of file\n",
      "/bin/bash: error importing function definition for `_moduleraw'\n"
     ]
    }
   ],
   "source": [
    "!pip install sagemaker boto3 awscli --upgrade -q\n",
    "!pip install ipywidgets -q\n",
    "# !wget https://raw.githubusercontent.com/awslabs/amazon-sagemaker-examples/master/advanced_functionality/tensorflow_bring_your_own/utils/generate_cifar10_tfrecords.py\n",
    "# !python generate_cifar10_tfrecords.py --data-dir cifar10"
   ]
  },
  {
   "cell_type": "markdown",
   "metadata": {},
   "source": [
    "**Step 1:** Import essentials packages, start a sagemaker session and specify the bucket name you created in the pre-requsites section of this workshop."
   ]
  },
  {
   "cell_type": "code",
   "execution_count": 4,
   "metadata": {},
   "outputs": [],
   "source": [
    "import os\n",
    "import boto3\n",
    "import time\n",
    "import numpy as np\n",
    "import sagemaker\n",
    "\n",
    "sess = boto3.Session()\n",
    "sagemaker_session = sagemaker.Session()\n",
    "role = 'AmazonSageMaker-ExecutionRole-20200615T222811'\n",
    "\n",
    "bucket_name    = sagemaker_session.default_bucket()\n",
    "jobs_folder    = 'jobs'\n",
    "dataset_folder = 'datasets'"
   ]
  },
  {
   "cell_type": "markdown",
   "metadata": {},
   "source": [
    "#### Upload dataset if it doesn't exist"
   ]
  },
  {
   "cell_type": "code",
   "execution_count": 5,
   "metadata": {
    "tags": []
   },
   "outputs": [
    {
     "data": {
      "text/plain": [
       "'s3://sagemaker-us-west-2-453691756499/datasets/cifar10-tfrecords'"
      ]
     },
     "execution_count": 5,
     "metadata": {},
     "output_type": "execute_result"
    }
   ],
   "source": [
    "# datasets = sagemaker_session.upload_data(path='cifar10', key_prefix=f'{dataset_folder}/cifar10-dataset')\n",
    "# datasets\n",
    "\n",
    "#If dataset already exists\n",
    "datasets = f's3://{bucket_name}/{dataset_folder}/cifar10-tfrecords'\n",
    "datasets"
   ]
  },
  {
   "cell_type": "markdown",
   "metadata": {},
   "source": [
    "# SageMaker training with scrip mode"
   ]
  },
  {
   "cell_type": "markdown",
   "metadata": {},
   "source": [
    "![](./sm_script_mode.png)"
   ]
  },
  {
   "cell_type": "code",
   "execution_count": 6,
   "metadata": {},
   "outputs": [],
   "source": [
    "job_name   = f'tf-single-gpu-{time.strftime(\"%Y-%m-%d-%H-%M-%S-%j\", time.gmtime())}'\n",
    "output_path = f's3://{bucket_name}/{jobs_folder}'\n",
    "\n",
    "metric_definitions = [{'Name': 'Validation Accuracy', 'Regex': 'Validation Accuracy: ([0-9\\\\.]+)'}]\n",
    "\n",
    "hyperparameters = {'epochs'       : 50, \n",
    "                   'learning-rate': 0.01,\n",
    "                   'momentum'     : 0.95,\n",
    "                   'weight-decay' : 2e-4,\n",
    "                   'optimizer'    : 'adam',\n",
    "                   'batch-size'   : 256,\n",
    "                   'model-type'   : 'custom'}\n"
   ]
  },
  {
   "cell_type": "code",
   "execution_count": 7,
   "metadata": {},
   "outputs": [],
   "source": [
    "from sagemaker.debugger import TensorBoardOutputConfig\n",
    "\n",
    "tensorboard_output_config = TensorBoardOutputConfig(\n",
    "    s3_output_path=f's3://{bucket_name}/tensorboard_logs')"
   ]
  },
  {
   "cell_type": "code",
   "execution_count": 8,
   "metadata": {},
   "outputs": [],
   "source": [
    "from sagemaker.tensorflow import TensorFlow\n",
    "estimator = TensorFlow(entry_point         = 'cifar10-tf2.py', \n",
    "                           source_dir           = 'code',\n",
    "                           output_path          = output_path + '/',\n",
    "                           code_location        = output_path,\n",
    "                           role                 = role,\n",
    "                           instance_count       = 1,\n",
    "                           instance_type        = 'ml.p3.2xlarge',\n",
    "                           framework_version    = '2.4', \n",
    "                           py_version           = 'py37',\n",
    "                           metric_definitions   = metric_definitions,\n",
    "                           hyperparameters      = hyperparameters,\n",
    "                           tensorboard_output_config = tensorboard_output_config)"
   ]
  },
  {
   "cell_type": "markdown",
   "metadata": {},
   "source": [
    "**Step 4:** Specify dataset locations in Amazon S3 and then call the fit function."
   ]
  },
  {
   "cell_type": "code",
   "execution_count": 12,
   "metadata": {
    "scrolled": true,
    "tags": []
   },
   "outputs": [
    {
     "name": "stdout",
     "output_type": "stream",
     "text": [
      "2022-04-21 09:06:59 Starting - Starting the training job...\n",
      "2022-04-21 09:07:25 Starting - Preparing the instances for trainingProfilerReport-1650532018: InProgress\n",
      ".........\n",
      "2022-04-21 09:08:56 Downloading - Downloading input data\n",
      "2022-04-21 09:08:56 Training - Downloading the training image........................\n",
      "2022-04-21 09:12:44 Training - Training image download completed. Training in progress.\u001b[34m2022-04-21 09:12:45.802735: W tensorflow/core/profiler/internal/smprofiler_timeline.cc:460] Initializing the SageMaker Profiler.\u001b[0m\n",
      "\u001b[34m2022-04-21 09:12:45.807749: W tensorflow/core/profiler/internal/smprofiler_timeline.cc:105] SageMaker Profiler is not enabled. The timeline writer thread will not be started, future recorded events will be dropped.\u001b[0m\n",
      "\u001b[34m2022-04-21 09:12:45.899884: I tensorflow/stream_executor/platform/default/dso_loader.cc:49] Successfully opened dynamic library libcudart.so.11.0\u001b[0m\n",
      "\u001b[34m2022-04-21 09:12:45.992015: W tensorflow/core/profiler/internal/smprofiler_timeline.cc:460] Initializing the SageMaker Profiler.\u001b[0m\n",
      "\u001b[34m2022-04-21 09:12:49,464 sagemaker-training-toolkit INFO     Imported framework sagemaker_tensorflow_container.training\u001b[0m\n",
      "\u001b[34m2022-04-21 09:12:50,040 sagemaker-training-toolkit INFO     Invoking user script\u001b[0m\n",
      "\u001b[34mTraining Env:\u001b[0m\n",
      "\u001b[34m{\n",
      "    \"additional_framework_parameters\": {},\n",
      "    \"channel_input_dirs\": {\n",
      "        \"eval\": \"/opt/ml/input/data/eval\",\n",
      "        \"train\": \"/opt/ml/input/data/train\",\n",
      "        \"validation\": \"/opt/ml/input/data/validation\"\n",
      "    },\n",
      "    \"current_host\": \"algo-1\",\n",
      "    \"framework_module\": \"sagemaker_tensorflow_container.training:main\",\n",
      "    \"hosts\": [\n",
      "        \"algo-1\"\n",
      "    ],\n",
      "    \"hyperparameters\": {\n",
      "        \"batch-size\": 256,\n",
      "        \"epochs\": 50,\n",
      "        \"learning-rate\": 0.01,\n",
      "        \"model-type\": \"custom\",\n",
      "        \"model_dir\": \"s3://sagemaker-us-west-2-453691756499/jobs/tf-single-gpu-2022-04-21-09-04-26-111/model\",\n",
      "        \"momentum\": 0.95,\n",
      "        \"optimizer\": \"adam\",\n",
      "        \"weight-decay\": 0.0002\n",
      "    },\n",
      "    \"input_config_dir\": \"/opt/ml/input/config\",\n",
      "    \"input_data_config\": {\n",
      "        \"eval\": {\n",
      "            \"TrainingInputMode\": \"File\",\n",
      "            \"S3DistributionType\": \"FullyReplicated\",\n",
      "            \"RecordWrapperType\": \"None\"\n",
      "        },\n",
      "        \"train\": {\n",
      "            \"TrainingInputMode\": \"File\",\n",
      "            \"S3DistributionType\": \"FullyReplicated\",\n",
      "            \"RecordWrapperType\": \"None\"\n",
      "        },\n",
      "        \"validation\": {\n",
      "            \"TrainingInputMode\": \"File\",\n",
      "            \"S3DistributionType\": \"FullyReplicated\",\n",
      "            \"RecordWrapperType\": \"None\"\n",
      "        }\n",
      "    },\n",
      "    \"input_dir\": \"/opt/ml/input\",\n",
      "    \"is_master\": true,\n",
      "    \"job_name\": \"tf-single-gpu-2022-04-21-09-04-26-111\",\n",
      "    \"log_level\": 20,\n",
      "    \"master_hostname\": \"algo-1\",\n",
      "    \"model_dir\": \"/opt/ml/model\",\n",
      "    \"module_dir\": \"s3://sagemaker-us-west-2-453691756499/jobs/tf-single-gpu-2022-04-21-09-04-26-111/source/sourcedir.tar.gz\",\n",
      "    \"module_name\": \"cifar10-tf2\",\n",
      "    \"network_interface_name\": \"eth0\",\n",
      "    \"num_cpus\": 8,\n",
      "    \"num_gpus\": 1,\n",
      "    \"output_data_dir\": \"/opt/ml/output/data\",\n",
      "    \"output_dir\": \"/opt/ml/output\",\n",
      "    \"output_intermediate_dir\": \"/opt/ml/output/intermediate\",\n",
      "    \"resource_config\": {\n",
      "        \"current_host\": \"algo-1\",\n",
      "        \"current_instance_type\": \"ml.p3.2xlarge\",\n",
      "        \"current_group_name\": \"homogeneousCluster\",\n",
      "        \"hosts\": [\n",
      "            \"algo-1\"\n",
      "        ],\n",
      "        \"instance_groups\": [\n",
      "            {\n",
      "                \"instance_group_name\": \"homogeneousCluster\",\n",
      "                \"instance_type\": \"ml.p3.2xlarge\",\n",
      "                \"hosts\": [\n",
      "                    \"algo-1\"\n",
      "                ]\n",
      "            }\n",
      "        ],\n",
      "        \"network_interface_name\": \"eth0\"\n",
      "    },\n",
      "    \"user_entry_point\": \"cifar10-tf2.py\"\u001b[0m\n",
      "\u001b[34m}\u001b[0m\n",
      "\u001b[34mEnvironment variables:\u001b[0m\n",
      "\u001b[34mSM_HOSTS=[\"algo-1\"]\u001b[0m\n",
      "\u001b[34mSM_NETWORK_INTERFACE_NAME=eth0\u001b[0m\n",
      "\u001b[34mSM_HPS={\"batch-size\":256,\"epochs\":50,\"learning-rate\":0.01,\"model-type\":\"custom\",\"model_dir\":\"s3://sagemaker-us-west-2-453691756499/jobs/tf-single-gpu-2022-04-21-09-04-26-111/model\",\"momentum\":0.95,\"optimizer\":\"adam\",\"weight-decay\":0.0002}\u001b[0m\n",
      "\u001b[34mSM_USER_ENTRY_POINT=cifar10-tf2.py\u001b[0m\n",
      "\u001b[34mSM_FRAMEWORK_PARAMS={}\u001b[0m\n",
      "\u001b[34mSM_RESOURCE_CONFIG={\"current_group_name\":\"homogeneousCluster\",\"current_host\":\"algo-1\",\"current_instance_type\":\"ml.p3.2xlarge\",\"hosts\":[\"algo-1\"],\"instance_groups\":[{\"hosts\":[\"algo-1\"],\"instance_group_name\":\"homogeneousCluster\",\"instance_type\":\"ml.p3.2xlarge\"}],\"network_interface_name\":\"eth0\"}\u001b[0m\n",
      "\u001b[34mSM_INPUT_DATA_CONFIG={\"eval\":{\"RecordWrapperType\":\"None\",\"S3DistributionType\":\"FullyReplicated\",\"TrainingInputMode\":\"File\"},\"train\":{\"RecordWrapperType\":\"None\",\"S3DistributionType\":\"FullyReplicated\",\"TrainingInputMode\":\"File\"},\"validation\":{\"RecordWrapperType\":\"None\",\"S3DistributionType\":\"FullyReplicated\",\"TrainingInputMode\":\"File\"}}\u001b[0m\n",
      "\u001b[34mSM_OUTPUT_DATA_DIR=/opt/ml/output/data\u001b[0m\n",
      "\u001b[34mSM_CHANNELS=[\"eval\",\"train\",\"validation\"]\u001b[0m\n",
      "\u001b[34mSM_CURRENT_HOST=algo-1\u001b[0m\n",
      "\u001b[34mSM_MODULE_NAME=cifar10-tf2\u001b[0m\n",
      "\u001b[34mSM_LOG_LEVEL=20\u001b[0m\n",
      "\u001b[34mSM_FRAMEWORK_MODULE=sagemaker_tensorflow_container.training:main\u001b[0m\n",
      "\u001b[34mSM_INPUT_DIR=/opt/ml/input\u001b[0m\n",
      "\u001b[34mSM_INPUT_CONFIG_DIR=/opt/ml/input/config\u001b[0m\n",
      "\u001b[34mSM_OUTPUT_DIR=/opt/ml/output\u001b[0m\n",
      "\u001b[34mSM_NUM_CPUS=8\u001b[0m\n",
      "\u001b[34mSM_NUM_GPUS=1\u001b[0m\n",
      "\u001b[34mSM_MODEL_DIR=/opt/ml/model\u001b[0m\n",
      "\u001b[34mSM_MODULE_DIR=s3://sagemaker-us-west-2-453691756499/jobs/tf-single-gpu-2022-04-21-09-04-26-111/source/sourcedir.tar.gz\u001b[0m\n",
      "\u001b[34mSM_TRAINING_ENV={\"additional_framework_parameters\":{},\"channel_input_dirs\":{\"eval\":\"/opt/ml/input/data/eval\",\"train\":\"/opt/ml/input/data/train\",\"validation\":\"/opt/ml/input/data/validation\"},\"current_host\":\"algo-1\",\"framework_module\":\"sagemaker_tensorflow_container.training:main\",\"hosts\":[\"algo-1\"],\"hyperparameters\":{\"batch-size\":256,\"epochs\":50,\"learning-rate\":0.01,\"model-type\":\"custom\",\"model_dir\":\"s3://sagemaker-us-west-2-453691756499/jobs/tf-single-gpu-2022-04-21-09-04-26-111/model\",\"momentum\":0.95,\"optimizer\":\"adam\",\"weight-decay\":0.0002},\"input_config_dir\":\"/opt/ml/input/config\",\"input_data_config\":{\"eval\":{\"RecordWrapperType\":\"None\",\"S3DistributionType\":\"FullyReplicated\",\"TrainingInputMode\":\"File\"},\"train\":{\"RecordWrapperType\":\"None\",\"S3DistributionType\":\"FullyReplicated\",\"TrainingInputMode\":\"File\"},\"validation\":{\"RecordWrapperType\":\"None\",\"S3DistributionType\":\"FullyReplicated\",\"TrainingInputMode\":\"File\"}},\"input_dir\":\"/opt/ml/input\",\"is_master\":true,\"job_name\":\"tf-single-gpu-2022-04-21-09-04-26-111\",\"log_level\":20,\"master_hostname\":\"algo-1\",\"model_dir\":\"/opt/ml/model\",\"module_dir\":\"s3://sagemaker-us-west-2-453691756499/jobs/tf-single-gpu-2022-04-21-09-04-26-111/source/sourcedir.tar.gz\",\"module_name\":\"cifar10-tf2\",\"network_interface_name\":\"eth0\",\"num_cpus\":8,\"num_gpus\":1,\"output_data_dir\":\"/opt/ml/output/data\",\"output_dir\":\"/opt/ml/output\",\"output_intermediate_dir\":\"/opt/ml/output/intermediate\",\"resource_config\":{\"current_group_name\":\"homogeneousCluster\",\"current_host\":\"algo-1\",\"current_instance_type\":\"ml.p3.2xlarge\",\"hosts\":[\"algo-1\"],\"instance_groups\":[{\"hosts\":[\"algo-1\"],\"instance_group_name\":\"homogeneousCluster\",\"instance_type\":\"ml.p3.2xlarge\"}],\"network_interface_name\":\"eth0\"},\"user_entry_point\":\"cifar10-tf2.py\"}\u001b[0m\n",
      "\u001b[34mSM_USER_ARGS=[\"--batch-size\",\"256\",\"--epochs\",\"50\",\"--learning-rate\",\"0.01\",\"--model-type\",\"custom\",\"--model_dir\",\"s3://sagemaker-us-west-2-453691756499/jobs/tf-single-gpu-2022-04-21-09-04-26-111/model\",\"--momentum\",\"0.95\",\"--optimizer\",\"adam\",\"--weight-decay\",\"0.0002\"]\u001b[0m\n",
      "\u001b[34mSM_OUTPUT_INTERMEDIATE_DIR=/opt/ml/output/intermediate\u001b[0m\n",
      "\u001b[34mSM_CHANNEL_EVAL=/opt/ml/input/data/eval\u001b[0m\n",
      "\u001b[34mSM_CHANNEL_TRAIN=/opt/ml/input/data/train\u001b[0m\n",
      "\u001b[34mSM_CHANNEL_VALIDATION=/opt/ml/input/data/validation\u001b[0m\n",
      "\u001b[34mSM_HP_BATCH-SIZE=256\u001b[0m\n",
      "\u001b[34mSM_HP_EPOCHS=50\u001b[0m\n",
      "\u001b[34mSM_HP_LEARNING-RATE=0.01\u001b[0m\n",
      "\u001b[34mSM_HP_MODEL-TYPE=custom\u001b[0m\n",
      "\u001b[34mSM_HP_MODEL_DIR=s3://sagemaker-us-west-2-453691756499/jobs/tf-single-gpu-2022-04-21-09-04-26-111/model\u001b[0m\n",
      "\u001b[34mSM_HP_MOMENTUM=0.95\u001b[0m\n",
      "\u001b[34mSM_HP_OPTIMIZER=adam\u001b[0m\n",
      "\u001b[34mSM_HP_WEIGHT-DECAY=0.0002\u001b[0m\n",
      "\u001b[34mPYTHONPATH=/opt/ml/code:/usr/local/bin:/usr/local/lib/python37.zip:/usr/local/lib/python3.7:/usr/local/lib/python3.7/lib-dynload:/usr/local/lib/python3.7/site-packages\u001b[0m\n",
      "\u001b[34mInvoking script with the following command:\u001b[0m\n",
      "\u001b[34m/usr/local/bin/python3.7 cifar10-tf2.py --batch-size 256 --epochs 50 --learning-rate 0.01 --model-type custom --model_dir s3://sagemaker-us-west-2-453691756499/jobs/tf-single-gpu-2022-04-21-09-04-26-111/model --momentum 0.95 --optimizer adam --weight-decay 0.0002\u001b[0m\n",
      "\u001b[34m====== Getting model architecture: custom ======\u001b[0m\n",
      "\u001b[34m[2022-04-21 09:12:58.255 ip-10-0-114-135.us-west-2.compute.internal:35 INFO utils.py:27] RULE_JOB_STOP_SIGNAL_FILENAME: None\u001b[0m\n",
      "\u001b[34m[2022-04-21 09:12:58.326 ip-10-0-114-135.us-west-2.compute.internal:35 INFO profiler_config_parser.py:102] User has disabled profiler.\u001b[0m\n",
      "\u001b[34m[2022-04-21 09:12:58.328 ip-10-0-114-135.us-west-2.compute.internal:35 INFO json_config.py:91] Creating hook from json_config at /opt/ml/input/config/debughookconfig.json.\u001b[0m\n",
      "\u001b[34m[2022-04-21 09:12:58.329 ip-10-0-114-135.us-west-2.compute.internal:35 INFO hook.py:255] Saving to /opt/ml/output/tensors\u001b[0m\n",
      "\u001b[34m[2022-04-21 09:12:58.329 ip-10-0-114-135.us-west-2.compute.internal:35 INFO state_store.py:77] The checkpoint config file /opt/ml/input/config/checkpointconfig.json does not exist.\u001b[0m\n",
      "\u001b[34m[2022-04-21 09:12:58.330 ip-10-0-114-135.us-west-2.compute.internal:35 INFO hook.py:425] Monitoring the collections: metrics, sm_metrics, losses\u001b[0m\n",
      "\u001b[34mEpoch: 1, Epoch duration: 0.007984638214111328 sec, Training loss: 2.2001633644104004, Training accuracy: 17.62319564819336 Validation Loss: 2.005693197250366, Validation Accuracy: 21.183895111083984\u001b[0m\n",
      "\u001b[34mEpoch: 2, Epoch duration: 0.009195327758789062 sec, Training loss: 1.9567583799362183, Training accuracy: 21.632110595703125 Validation Loss: 2.2261757850646973, Validation Accuracy: 21.394229888916016\u001b[0m\n",
      "\u001b[34mEpoch: 3, Epoch duration: 0.007434844970703125 sec, Training loss: 1.8329755067825317, Training accuracy: 27.92217445373535 Validation Loss: 1.9824118614196777, Validation Accuracy: 25.540864944458008\u001b[0m\n",
      "\u001b[34mEpoch: 4, Epoch duration: 0.007508993148803711 sec, Training loss: 1.712475061416626, Training accuracy: 33.51863098144531 Validation Loss: 1.8061511516571045, Validation Accuracy: 31.640625\u001b[0m\n",
      "\u001b[34mEpoch: 5, Epoch duration: 0.007366657257080078 sec, Training loss: 1.5894227027893066, Training accuracy: 39.4581298828125 Validation Loss: 1.7085363864898682, Validation Accuracy: 36.70873260498047\u001b[0m\n",
      "\u001b[34mEpoch: 6, Epoch duration: 0.0076067447662353516 sec, Training loss: 1.4563853740692139, Training accuracy: 46.80488586425781 Validation Loss: 1.3843412399291992, Validation Accuracy: 51.34214782714844\u001b[0m\n",
      "\u001b[34mEpoch: 7, Epoch duration: 0.0073604583740234375 sec, Training loss: 1.306386947631836, Training accuracy: 53.758514404296875 Validation Loss: 1.9840987920761108, Validation Accuracy: 36.64863586425781\u001b[0m\n",
      "\u001b[34mEpoch: 8, Epoch duration: 0.007705211639404297 sec, Training loss: 1.1986814737319946, Training accuracy: 58.24319076538086 Validation Loss: 1.3650437593460083, Validation Accuracy: 54.02644348144531\u001b[0m\n",
      "\u001b[34mEpoch: 9, Epoch duration: 0.006413459777832031 sec, Training loss: 1.111412525177002, Training accuracy: 61.85897445678711 Validation Loss: 1.2320011854171753, Validation Accuracy: 58.36338424682617\u001b[0m\n",
      "\u001b[34mEpoch: 10, Epoch duration: 0.007390499114990234 sec, Training loss: 1.0540149211883545, Training accuracy: 64.26531982421875 Validation Loss: 1.2222567796707153, Validation Accuracy: 59.08453369140625\u001b[0m\n",
      "\u001b[34mEpoch: 11, Epoch duration: 0.0075931549072265625 sec, Training loss: 0.990976870059967, Training accuracy: 67.00721740722656 Validation Loss: 0.962429940700531, Validation Accuracy: 66.796875\u001b[0m\n",
      "\u001b[34mEpoch: 12, Epoch duration: 0.007689952850341797 sec, Training loss: 0.9406754970550537, Training accuracy: 68.34184265136719 Validation Loss: 0.8960555791854858, Validation Accuracy: 70.10215759277344\u001b[0m\n",
      "\u001b[34mEpoch: 13, Epoch duration: 0.007440090179443359 sec, Training loss: 0.9066667556762695, Training accuracy: 69.86428833007812 Validation Loss: 0.9697400331497192, Validation Accuracy: 68.60977172851562\u001b[0m\n",
      "\u001b[34mEpoch: 14, Epoch duration: 0.005652904510498047 sec, Training loss: 0.8664473295211792, Training accuracy: 71.2890625 Validation Loss: 1.0151481628417969, Validation Accuracy: 68.57972717285156\u001b[0m\n",
      "\u001b[34mEpoch: 15, Epoch duration: 0.007443904876708984 sec, Training loss: 0.8384675979614258, Training accuracy: 72.3582763671875 Validation Loss: 0.7233359217643738, Validation Accuracy: 75.69110107421875\u001b[0m\n",
      "\u001b[34mEpoch: 16, Epoch duration: 0.00760650634765625 sec, Training loss: 0.8110758066177368, Training accuracy: 73.17457580566406 Validation Loss: 0.7704775333404541, Validation Accuracy: 72.4559326171875\u001b[0m\n",
      "\u001b[34mEpoch: 17, Epoch duration: 0.006975412368774414 sec, Training loss: 0.7946487665176392, Training accuracy: 73.95582580566406 Validation Loss: 1.0028672218322754, Validation Accuracy: 67.29767608642578\u001b[0m\n",
      "\u001b[34mEpoch: 18, Epoch duration: 0.007384300231933594 sec, Training loss: 0.7740107178688049, Training accuracy: 74.45413208007812 Validation Loss: 0.820787787437439, Validation Accuracy: 72.33573913574219\u001b[0m\n",
      "\u001b[34mEpoch: 19, Epoch duration: 0.008306503295898438 sec, Training loss: 0.7445718050003052, Training accuracy: 75.14773559570312 Validation Loss: 0.7740575075149536, Validation Accuracy: 73.71794891357422\u001b[0m\n",
      "\u001b[34mEpoch: 20, Epoch duration: 0.007249116897583008 sec, Training loss: 0.7369439601898193, Training accuracy: 75.78875732421875 Validation Loss: 0.6554167866706848, Validation Accuracy: 77.66426086425781\u001b[0m\n",
      "\u001b[34mEpoch: 21, Epoch duration: 0.0072383880615234375 sec, Training loss: 0.7200644016265869, Training accuracy: 76.064208984375 Validation Loss: 0.7644358277320862, Validation Accuracy: 74.82972717285156\u001b[0m\n",
      "\u001b[34mEpoch: 22, Epoch duration: 0.007397890090942383 sec, Training loss: 0.7138769626617432, Training accuracy: 76.71273803710938 Validation Loss: 1.061400055885315, Validation Accuracy: 66.806884765625\u001b[0m\n",
      "\u001b[34mEpoch: 23, Epoch duration: 0.00798344612121582 sec, Training loss: 0.6902481913566589, Training accuracy: 77.26112365722656 Validation Loss: 0.6784235835075378, Validation Accuracy: 77.71434020996094\u001b[0m\n",
      "\u001b[34mEpoch: 24, Epoch duration: 0.007360696792602539 sec, Training loss: 0.6830756068229675, Training accuracy: 77.41886901855469 Validation Loss: 0.7625486254692078, Validation Accuracy: 75.30047607421875\u001b[0m\n",
      "\u001b[34mEpoch: 25, Epoch duration: 0.007543325424194336 sec, Training loss: 0.6665351986885071, Training accuracy: 78.0323486328125 Validation Loss: 0.6505213379859924, Validation Accuracy: 78.42547607421875\u001b[0m\n",
      "\u001b[34mEpoch: 26, Epoch duration: 0.006542682647705078 sec, Training loss: 0.658776044845581, Training accuracy: 78.2852554321289 Validation Loss: 0.648557186126709, Validation Accuracy: 78.03485107421875\u001b[0m\n",
      "\u001b[34mEpoch: 27, Epoch duration: 0.0075643062591552734 sec, Training loss: 0.6442204117774963, Training accuracy: 78.84615325927734 Validation Loss: 0.695835530757904, Validation Accuracy: 77.44390869140625\u001b[0m\n",
      "\u001b[34mEpoch: 28, Epoch duration: 0.007382869720458984 sec, Training loss: 0.6379019021987915, Training accuracy: 78.90875244140625 Validation Loss: 0.6314423680305481, Validation Accuracy: 77.59414672851562\u001b[0m\n",
      "\u001b[34mEpoch: 29, Epoch duration: 0.007548332214355469 sec, Training loss: 0.6272943019866943, Training accuracy: 79.29437255859375 Validation Loss: 0.601241946220398, Validation Accuracy: 79.75761413574219\u001b[0m\n",
      "\u001b[34mEpoch: 30, Epoch duration: 0.007107734680175781 sec, Training loss: 0.6145527362823486, Training accuracy: 79.80018615722656 Validation Loss: 0.6123769283294678, Validation Accuracy: 79.65745544433594\u001b[0m\n",
      "\u001b[34mEpoch: 31, Epoch duration: 0.00821828842163086 sec, Training loss: 0.6029588580131531, Training accuracy: 80.15574645996094 Validation Loss: 0.5471410751342773, Validation Accuracy: 81.20993041992188\u001b[0m\n",
      "\u001b[34mEpoch: 32, Epoch duration: 0.0075724124908447266 sec, Training loss: 0.5970310568809509, Training accuracy: 80.26593017578125 Validation Loss: 0.5828010439872742, Validation Accuracy: 80.35857391357422\u001b[0m\n",
      "\u001b[34mEpoch: 33, Epoch duration: 0.0075550079345703125 sec, Training loss: 0.5957671403884888, Training accuracy: 80.52383422851562 Validation Loss: 0.5835548639297485, Validation Accuracy: 80.51882934570312\u001b[0m\n",
      "\u001b[34mEpoch: 34, Epoch duration: 0.00699305534362793 sec, Training loss: 0.579724907875061, Training accuracy: 80.67909240722656 Validation Loss: 0.5607225298881531, Validation Accuracy: 81.18990325927734\u001b[0m\n",
      "\u001b[34mEpoch: 35, Epoch duration: 0.007168292999267578 sec, Training loss: 0.5802156329154968, Training accuracy: 81.162353515625 Validation Loss: 0.5334028005599976, Validation Accuracy: 82.1915054321289\u001b[0m\n",
      "\u001b[34mEpoch: 36, Epoch duration: 0.008278131484985352 sec, Training loss: 0.560876727104187, Training accuracy: 81.44781494140625 Validation Loss: 0.5442056059837341, Validation Accuracy: 81.42027282714844\u001b[0m\n",
      "\u001b[34mEpoch: 37, Epoch duration: 0.008080244064331055 sec, Training loss: 0.5607481002807617, Training accuracy: 81.43279266357422 Validation Loss: 0.5624912977218628, Validation Accuracy: 81.4803695678711\u001b[0m\n",
      "\u001b[34mEpoch: 38, Epoch duration: 0.007515668869018555 sec, Training loss: 0.5575478076934814, Training accuracy: 81.51792907714844 Validation Loss: 0.5281039476394653, Validation Accuracy: 81.98117065429688\u001b[0m\n",
      "\u001b[34mEpoch: 39, Epoch duration: 0.007193326950073242 sec, Training loss: 0.5486558675765991, Training accuracy: 81.97616577148438 Validation Loss: 0.5669448375701904, Validation Accuracy: 81.4503173828125\u001b[0m\n",
      "\u001b[34mEpoch: 40, Epoch duration: 0.00754094123840332 sec, Training loss: 0.5435988306999207, Training accuracy: 82.01371765136719 Validation Loss: 0.5260906219482422, Validation Accuracy: 82.63221740722656\u001b[0m\n",
      "\u001b[34mEpoch: 41, Epoch duration: 0.0067195892333984375 sec, Training loss: 0.5385433435440063, Training accuracy: 82.27163696289062 Validation Loss: 0.5301696062088013, Validation Accuracy: 82.07131958007812\u001b[0m\n",
      "\u001b[34mEpoch: 42, Epoch duration: 0.0074253082275390625 sec, Training loss: 0.5365886688232422, Training accuracy: 82.04878234863281 Validation Loss: 0.530156672000885, Validation Accuracy: 82.06129455566406\u001b[0m\n",
      "\u001b[34mEpoch: 43, Epoch duration: 0.007607460021972656 sec, Training loss: 0.533577024936676, Training accuracy: 82.32421875 Validation Loss: 0.504848301410675, Validation Accuracy: 82.5821304321289\u001b[0m\n",
      "\u001b[34mEpoch: 44, Epoch duration: 0.0075359344482421875 sec, Training loss: 0.5213368535041809, Training accuracy: 82.68730163574219 Validation Loss: 0.5526212453842163, Validation Accuracy: 81.15985107421875\u001b[0m\n",
      "\u001b[34mEpoch: 45, Epoch duration: 0.0075800418853759766 sec, Training loss: 0.5113418698310852, Training accuracy: 82.97526550292969 Validation Loss: 0.5175467729568481, Validation Accuracy: 82.71234130859375\u001b[0m\n",
      "\u001b[34mEpoch: 46, Epoch duration: 0.007088899612426758 sec, Training loss: 0.5071111917495728, Training accuracy: 83.40594482421875 Validation Loss: 0.500115692615509, Validation Accuracy: 83.44351196289062\u001b[0m\n",
      "\u001b[34mEpoch: 47, Epoch duration: 0.006379842758178711 sec, Training loss: 0.5052176117897034, Training accuracy: 83.26071166992188 Validation Loss: 0.48156753182411194, Validation Accuracy: 83.47355651855469\u001b[0m\n",
      "\u001b[34mEpoch: 48, Epoch duration: 0.007510185241699219 sec, Training loss: 0.507571816444397, Training accuracy: 83.12800598144531 Validation Loss: 0.5224087238311768, Validation Accuracy: 83.3633804321289\u001b[0m\n",
      "\u001b[34mEpoch: 49, Epoch duration: 0.00917816162109375 sec, Training loss: 0.49555182456970215, Training accuracy: 83.67137145996094 Validation Loss: 0.4674569070339203, Validation Accuracy: 84.33493041992188\u001b[0m\n",
      "\u001b[34mEpoch: 50, Epoch duration: 0.007246732711791992 sec, Training loss: 0.4838309586048126, Training accuracy: 83.71144104003906 Validation Loss: 0.5352001786231995, Validation Accuracy: 82.78245544433594\u001b[0m\n",
      "\u001b[34m====== Test Results ======\u001b[0m\n",
      "\u001b[34mTest loss: 0.5642219185829163, Test accuracy: 81.35015869140625\u001b[0m\n",
      "\u001b[34m====== End of training ======\u001b[0m\n",
      "\u001b[34m2022-04-21 09:12:50.200897: W tensorflow/core/profiler/internal/smprofiler_timeline.cc:460] Initializing the SageMaker Profiler.\u001b[0m\n",
      "\u001b[34m2022-04-21 09:12:50.201077: W tensorflow/core/profiler/internal/smprofiler_timeline.cc:105] SageMaker Profiler is not enabled. The timeline writer thread will not be started, future recorded events will be dropped.\u001b[0m\n",
      "\u001b[34m2022-04-21 09:12:50.244335: W tensorflow/core/profiler/internal/smprofiler_timeline.cc:460] Initializing the SageMaker Profiler.\u001b[0m\n",
      "\u001b[34m2022-04-21 09:16:29.728222: W tensorflow/python/util/util.cc:348] Sets are not currently considered sequences, but this may change in the future, so consider avoiding using them.\u001b[0m\n",
      "\u001b[34mINFO:tensorflow:Assets written to: /opt/ml/model/1/assets\u001b[0m\n",
      "\u001b[34mINFO:tensorflow:Assets written to: /opt/ml/model/1/assets\u001b[0m\n",
      "\u001b[34m2022-04-21 09:16:34,289 sagemaker-training-toolkit INFO     Reporting training SUCCESS\u001b[0m\n",
      "\n",
      "2022-04-21 09:17:05 Uploading - Uploading generated training model\n",
      "2022-04-21 09:17:05 Completed - Training job completed\n",
      "ProfilerReport-1650532018: NoIssuesFound\n",
      "Training seconds: 489\n",
      "Billable seconds: 489\n"
     ]
    }
   ],
   "source": [
    "estimator.fit({'train': f'{datasets}/train',\n",
    "                    'validation': f'{datasets}/validation',\n",
    "                    'eval': f'{datasets}/eval'}, \n",
    "                  job_name=job_name, wait=True)"
   ]
  },
  {
   "cell_type": "markdown",
   "metadata": {},
   "source": [
    "# SageMaker training with custom container"
   ]
  },
  {
   "cell_type": "markdown",
   "metadata": {},
   "source": [
    "![](sm_custom_container.png)"
   ]
  },
  {
   "cell_type": "code",
   "execution_count": 25,
   "metadata": {},
   "outputs": [],
   "source": [
    "client = boto3.client('sagemaker')\n",
    "region = boto3.Session().region_name\n",
    "account = boto3.client('sts').get_caller_identity().get('Account')\n",
    "\n",
    "repo_name = 'custom-dl-containers'\n",
    "image_tag = 'sm-gpu'\n",
    "\n",
    "image = '{}.dkr.ecr.{}.amazonaws.com/{}:{}'.format(account, region, repo_name, image_tag)"
   ]
  },
  {
   "cell_type": "code",
   "execution_count": null,
   "metadata": {
    "scrolled": true,
    "tags": []
   },
   "outputs": [
    {
     "name": "stdout",
     "output_type": "stream",
     "text": [
      "2022-04-21 17:24:23 Starting - Starting the training job...\n",
      "2022-04-21 17:24:48 Starting - Preparing the instances for trainingProfilerReport-1650561862: InProgress\n",
      "........."
     ]
    }
   ],
   "source": [
    "from sagemaker.estimator import Estimator\n",
    "job_name = f'tf-single-gpu-custom-{time.strftime(\"%Y-%m-%d-%H-%M-%S-%j\", time.gmtime())}'\n",
    "\n",
    "estimator = Estimator(\n",
    "    image_uri=image,\n",
    "    role=role,\n",
    "    instance_count=1,\n",
    "    instance_type='ml.p3.2xlarge',\n",
    "    metric_definitions=[{'Name': 'test_acc', 'Regex': 'test_acc:([0-9\\\\.]+)'}])\n",
    "\n",
    "estimator.fit(job_name=job_name)"
   ]
  },
  {
   "cell_type": "code",
   "execution_count": null,
   "metadata": {},
   "outputs": [],
   "source": []
  }
 ],
 "metadata": {
  "instance_type": "ml.t3.medium",
  "kernelspec": {
   "display_name": "Environment (conda_tensorflow2_p38)",
   "language": "python",
   "name": "conda_tensorflow2_p38"
  },
  "language_info": {
   "codemirror_mode": {
    "name": "ipython",
    "version": 3
   },
   "file_extension": ".py",
   "mimetype": "text/x-python",
   "name": "python",
   "nbconvert_exporter": "python",
   "pygments_lexer": "ipython3",
   "version": "3.8.12"
  }
 },
 "nbformat": 4,
 "nbformat_minor": 4
}
