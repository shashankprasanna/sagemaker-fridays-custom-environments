{
 "cells": [
  {
   "cell_type": "code",
   "execution_count": 13,
   "id": "fabulous-cornwall",
   "metadata": {},
   "outputs": [],
   "source": [
    "import boto3\n",
    "sess = boto3.Session()\n",
    "s3 = boto3.resource('s3')"
   ]
  },
  {
   "cell_type": "code",
   "execution_count": 14,
   "id": "accomplished-bibliography",
   "metadata": {},
   "outputs": [],
   "source": [
    "ecr_repo_name = 'custom-dl-containers'\n",
    "\n",
    "region = boto3.Session().region_name\n",
    "account = boto3.client('sts').get_caller_identity().get('Account')\n",
    "image_eks_cpu = '{}.dkr.ecr.{}.amazonaws.com/{}:eks-cpu'.format(account, region, ecr_repo_name)\n",
    "image_eks_gpu = '{}.dkr.ecr.{}.amazonaws.com/{}:eks-gpu'.format(account, region, ecr_repo_name)\n",
    "image_sm_gpu = '{}.dkr.ecr.{}.amazonaws.com/{}:sm-gpu'.format(account, region, ecr_repo_name)"
   ]
  },
  {
   "cell_type": "code",
   "execution_count": 15,
   "id": "precious-bible",
   "metadata": {},
   "outputs": [
    {
     "name": "stdout",
     "output_type": "stream",
     "text": [
      "/bin/bash: switchml: line 1: syntax error: unexpected end of file\n",
      "/bin/bash: error importing function definition for `switchml'\n",
      "/bin/bash: _moduleraw: line 1: syntax error: unexpected end of file\n",
      "/bin/bash: error importing function definition for `_moduleraw'\n",
      "\n",
      "An error occurred (RepositoryAlreadyExistsException) when calling the CreateRepository operation: The repository with name 'custom-dl-containers' already exists in the registry with id '453691756499'\n"
     ]
    }
   ],
   "source": [
    "!aws ecr create-repository --repository-name {ecr_repo_name}"
   ]
  },
  {
   "cell_type": "code",
   "execution_count": 10,
   "id": "dense-banana",
   "metadata": {},
   "outputs": [
    {
     "name": "stdout",
     "output_type": "stream",
     "text": [
      "/bin/bash: switchml: line 1: syntax error: unexpected end of file\n",
      "/bin/bash: error importing function definition for `switchml'\n",
      "/bin/bash: _moduleraw: line 1: syntax error: unexpected end of file\n",
      "/bin/bash: error importing function definition for `_moduleraw'\n",
      "WARNING! Your password will be stored unencrypted in /home/ubuntu/.docker/config.json.\n",
      "Configure a credential helper to remove this warning. See\n",
      "https://docs.docker.com/engine/reference/commandline/login/#credentials-store\n",
      "\n",
      "Login Succeeded\n",
      "/bin/bash: switchml: line 1: syntax error: unexpected end of file\n",
      "/bin/bash: error importing function definition for `switchml'\n",
      "/bin/bash: _moduleraw: line 1: syntax error: unexpected end of file\n",
      "/bin/bash: error importing function definition for `_moduleraw'\n",
      "Sending build context to Docker daemon  61.95kB\n",
      "Step 1/3 : FROM 763104351884.dkr.ecr.us-west-2.amazonaws.com/tensorflow-training:2.8.0-cpu-py39-ubuntu20.04-e3\n",
      " ---> 7140ced63766\n",
      "Step 2/3 : COPY tf2_cifar10.py /opt/ml/code/tf2_cifar10.py\n",
      " ---> Using cache\n",
      " ---> f82b213e5197\n",
      "Step 3/3 : ENTRYPOINT [\"python\", \"/opt/ml/code/tf2_cifar10.py\"]\n",
      " ---> Using cache\n",
      " ---> 48fd24c07eff\n",
      "Successfully built 48fd24c07eff\n",
      "Successfully tagged custom-dl-containers:latest-eks\n",
      "/bin/bash: switchml: line 1: syntax error: unexpected end of file\n",
      "/bin/bash: error importing function definition for `switchml'\n",
      "/bin/bash: _moduleraw: line 1: syntax error: unexpected end of file\n",
      "/bin/bash: error importing function definition for `_moduleraw'\n",
      "Sending build context to Docker daemon  61.95kB\n",
      "Step 1/3 : FROM 763104351884.dkr.ecr.us-west-2.amazonaws.com/tensorflow-training:2.8.0-gpu-py39-cu112-ubuntu20.04-sagemaker\n",
      " ---> 8bfce0b7e5e6\n",
      "Step 2/3 : COPY tf2_cifar10.py /opt/ml/code/tf2_cifar10.py\n",
      " ---> Using cache\n",
      " ---> 3aef083f988e\n",
      "Step 3/3 : ENTRYPOINT [\"python\", \"/opt/ml/code/tf2_cifar10.py\"]\n",
      " ---> Using cache\n",
      " ---> e7eb452e8bca\n",
      "Successfully built e7eb452e8bca\n",
      "Successfully tagged custom-dl-containers:latest-sm\n"
     ]
    }
   ],
   "source": [
    "!aws ecr get-login-password --region us-west-2 | docker login --username AWS --password-stdin 763104351884.dkr.ecr.us-west-2.amazonaws.com\n",
    "!docker build -t {ecr_repo_name}:eks-cpu -f Dockerfile.ekscpu .\n",
    "!docker build -t {ecr_repo_name}:eks-gpu -f Dockerfile.eksgpu .\n",
    "!docker build -t {ecr_repo_name}:sm-gpu -f Dockerfile.smgpu ."
   ]
  },
  {
   "cell_type": "code",
   "execution_count": 11,
   "id": "refined-wayne",
   "metadata": {},
   "outputs": [
    {
     "name": "stdout",
     "output_type": "stream",
     "text": [
      "/bin/bash: switchml: line 1: syntax error: unexpected end of file\n",
      "/bin/bash: error importing function definition for `switchml'\n",
      "/bin/bash: _moduleraw: line 1: syntax error: unexpected end of file\n",
      "/bin/bash: error importing function definition for `_moduleraw'\n",
      "WARNING! Using --password via the CLI is insecure. Use --password-stdin.\n",
      "WARNING! Your password will be stored unencrypted in /home/ubuntu/.docker/config.json.\n",
      "Configure a credential helper to remove this warning. See\n",
      "https://docs.docker.com/engine/reference/commandline/login/#credentials-store\n",
      "\n",
      "Login Succeeded\n",
      "/bin/bash: switchml: line 1: syntax error: unexpected end of file\n",
      "/bin/bash: error importing function definition for `switchml'\n",
      "/bin/bash: _moduleraw: line 1: syntax error: unexpected end of file\n",
      "/bin/bash: error importing function definition for `_moduleraw'\n",
      "Error response from daemon: No such image: custom-dl-containers:latest-cpu\n",
      "/bin/bash: switchml: line 1: syntax error: unexpected end of file\n",
      "/bin/bash: error importing function definition for `switchml'\n",
      "/bin/bash: _moduleraw: line 1: syntax error: unexpected end of file\n",
      "/bin/bash: error importing function definition for `_moduleraw'\n",
      "The push refers to repository [453691756499.dkr.ecr.us-west-2.amazonaws.com/custom-dl-containers]\n",
      "An image does not exist locally with the tag: 453691756499.dkr.ecr.us-west-2.amazonaws.com/custom-dl-containers\n",
      "/bin/bash: switchml: line 1: syntax error: unexpected end of file\n",
      "/bin/bash: error importing function definition for `switchml'\n",
      "/bin/bash: _moduleraw: line 1: syntax error: unexpected end of file\n",
      "/bin/bash: error importing function definition for `_moduleraw'\n",
      "Error response from daemon: No such image: custom-dl-containers:latest-gpu\n",
      "/bin/bash: switchml: line 1: syntax error: unexpected end of file\n",
      "/bin/bash: error importing function definition for `switchml'\n",
      "/bin/bash: _moduleraw: line 1: syntax error: unexpected end of file\n",
      "/bin/bash: error importing function definition for `_moduleraw'\n",
      "The push refers to repository [453691756499.dkr.ecr.us-west-2.amazonaws.com/custom-dl-containers]\n",
      "An image does not exist locally with the tag: 453691756499.dkr.ecr.us-west-2.amazonaws.com/custom-dl-containers\n"
     ]
    }
   ],
   "source": [
    "!$(aws ecr get-login --no-include-email --region {region})\n",
    "\n",
    "!docker tag {ecr_repo_name}:latest-cpu {image_eks_cpu}\n",
    "!docker push {image_eks_cpu}\n",
    "\n",
    "!docker tag {ecr_repo_name}:latest-cpu {image_eks_gpu}\n",
    "!docker push {image_eks_gpu}\n",
    "\n",
    "!docker tag {ecr_repo_name}:latest-gpu {image_sm_gpu}\n",
    "!docker push {image_sm_gpu}"
   ]
  },
  {
   "cell_type": "code",
   "execution_count": 12,
   "id": "offensive-premiere",
   "metadata": {},
   "outputs": [
    {
     "name": "stdout",
     "output_type": "stream",
     "text": [
      "/bin/bash: switchml: line 1: syntax error: unexpected end of file\n",
      "/bin/bash: error importing function definition for `switchml'\n",
      "/bin/bash: _moduleraw: line 1: syntax error: unexpected end of file\n",
      "/bin/bash: error importing function definition for `_moduleraw'\n",
      "REPOSITORY                                                         TAG                                          IMAGE ID       CREATED         SIZE\n",
      "custom-dl-containers                                               latest-sm                                    e7eb452e8bca   4 minutes ago   10.3GB\n",
      "custom-dl-containers                                               latest-eks                                   48fd24c07eff   8 minutes ago   2.9GB\n",
      "763104351884.dkr.ecr.us-west-2.amazonaws.com/tensorflow-training   2.8.0-gpu-py39-cu112-ubuntu20.04-sagemaker   8bfce0b7e5e6   5 weeks ago     10.3GB\n",
      "763104351884.dkr.ecr.us-west-2.amazonaws.com/tensorflow-training   2.8.0-gpu-py39-cu112-ubuntu20.04-e3          64aa64800002   6 weeks ago     9.24GB\n",
      "763104351884.dkr.ecr.us-west-2.amazonaws.com/tensorflow-training   2.8.0-cpu-py39-ubuntu20.04-e3                7140ced63766   6 weeks ago     2.9GB\n"
     ]
    }
   ],
   "source": [
    "!docker images"
   ]
  },
  {
   "cell_type": "code",
   "execution_count": null,
   "id": "da89ec22-1d15-413b-b421-1b28f261f91f",
   "metadata": {},
   "outputs": [],
   "source": []
  },
  {
   "cell_type": "code",
   "execution_count": null,
   "id": "99eca7b4-fd7e-4bee-9d4e-6bd61b90ae1f",
   "metadata": {},
   "outputs": [],
   "source": []
  }
 ],
 "metadata": {
  "kernelspec": {
   "display_name": "Environment (conda_tensorflow2_p38)",
   "language": "python",
   "name": "conda_tensorflow2_p38"
  },
  "language_info": {
   "codemirror_mode": {
    "name": "ipython",
    "version": 3
   },
   "file_extension": ".py",
   "mimetype": "text/x-python",
   "name": "python",
   "nbconvert_exporter": "python",
   "pygments_lexer": "ipython3",
   "version": "3.8.12"
  }
 },
 "nbformat": 4,
 "nbformat_minor": 5
}
