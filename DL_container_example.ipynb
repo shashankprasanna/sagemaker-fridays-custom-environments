{
 "cells": [
  {
   "cell_type": "markdown",
   "id": "conservative-buddy",
   "metadata": {},
   "source": [
    "### AWS Deep Learning Container ECR login"
   ]
  },
  {
   "cell_type": "code",
   "execution_count": 1,
   "id": "abandoned-gambling",
   "metadata": {},
   "outputs": [
    {
     "name": "stdout",
     "output_type": "stream",
     "text": [
      "/bin/bash: switchml: line 1: syntax error: unexpected end of file\n",
      "/bin/bash: error importing function definition for `switchml'\n",
      "/bin/bash: _moduleraw: line 1: syntax error: unexpected end of file\n",
      "/bin/bash: error importing function definition for `_moduleraw'\n",
      "WARNING! Your password will be stored unencrypted in /home/ubuntu/.docker/config.json.\n",
      "Configure a credential helper to remove this warning. See\n",
      "https://docs.docker.com/engine/reference/commandline/login/#credentials-store\n",
      "\n",
      "Login Succeeded\n"
     ]
    }
   ],
   "source": [
    "!aws ecr get-login-password --region us-west-2 | docker login --username AWS --password-stdin 763104351884.dkr.ecr.us-west-2.amazonaws.com"
   ]
  },
  {
   "cell_type": "markdown",
   "id": "medium-entry",
   "metadata": {},
   "source": [
    "### TensorFlow CPU container"
   ]
  },
  {
   "cell_type": "code",
   "execution_count": 2,
   "id": "illegal-receipt",
   "metadata": {},
   "outputs": [
    {
     "name": "stdout",
     "output_type": "stream",
     "text": [
      "/bin/bash: switchml: line 1: syntax error: unexpected end of file\n",
      "/bin/bash: error importing function definition for `switchml'\n",
      "/bin/bash: _moduleraw: line 1: syntax error: unexpected end of file\n",
      "/bin/bash: error importing function definition for `_moduleraw'\n",
      "2.8.0-gpu-py39-cu112-ubuntu20.04-e3: Pulling from tensorflow-training\n",
      "Digest: sha256:4cb6ba01b1a3a68f27c84618230f62da1d85fb04928412d407a066e91db19e60\n",
      "Status: Image is up to date for 763104351884.dkr.ecr.us-west-2.amazonaws.com/tensorflow-training:2.8.0-gpu-py39-cu112-ubuntu20.04-e3\n",
      "763104351884.dkr.ecr.us-west-2.amazonaws.com/tensorflow-training:2.8.0-gpu-py39-cu112-ubuntu20.04-e3\n"
     ]
    }
   ],
   "source": [
    "!docker pull 763104351884.dkr.ecr.us-west-2.amazonaws.com/tensorflow-training:2.8.0-gpu-py39-cu112-ubuntu20.04-e3"
   ]
  },
  {
   "cell_type": "code",
   "execution_count": 3,
   "id": "married-transition",
   "metadata": {},
   "outputs": [
    {
     "name": "stdout",
     "output_type": "stream",
     "text": [
      "/bin/bash: switchml: line 1: syntax error: unexpected end of file\n",
      "/bin/bash: error importing function definition for `switchml'\n",
      "/bin/bash: _moduleraw: line 1: syntax error: unexpected end of file\n",
      "/bin/bash: error importing function definition for `_moduleraw'\n",
      "REPOSITORY                                                          TAG                                          IMAGE ID       CREATED          SIZE\n",
      "453691756499.dkr.ecr.us-west-2.amazonaws.com/custom-dl-containers   sm-gpu                                       adc2b39ada30   4 minutes ago    10.3GB\n",
      "custom-dl-containers                                                sm-gpu                                       adc2b39ada30   4 minutes ago    10.3GB\n",
      "453691756499.dkr.ecr.us-west-2.amazonaws.com/custom-dl-containers   eks-gpu                                      00158156df42   4 minutes ago    9.24GB\n",
      "custom-dl-containers                                                eks-gpu                                      00158156df42   4 minutes ago    9.24GB\n",
      "453691756499.dkr.ecr.us-west-2.amazonaws.com/custom-dl-containers   eks-cpu                                      3b8948f2778f   4 minutes ago    2.9GB\n",
      "custom-dl-containers                                                eks-cpu                                      3b8948f2778f   4 minutes ago    2.9GB\n",
      "453691756499.dkr.ecr.us-west-2.amazonaws.com/custom-dl-containers   <none>                                       d8935090b588   12 minutes ago   10.3GB\n",
      "453691756499.dkr.ecr.us-west-2.amazonaws.com/custom-dl-containers   <none>                                       5ef00548b0b1   12 minutes ago   9.24GB\n",
      "453691756499.dkr.ecr.us-west-2.amazonaws.com/custom-dl-containers   <none>                                       8e51630809c5   12 minutes ago   2.9GB\n",
      "453691756499.dkr.ecr.us-west-2.amazonaws.com/custom-dl-containers   <none>                                       97ace4943dad   41 minutes ago   10.3GB\n",
      "453691756499.dkr.ecr.us-west-2.amazonaws.com/custom-dl-containers   <none>                                       2e8e26d0896c   41 minutes ago   9.24GB\n",
      "453691756499.dkr.ecr.us-west-2.amazonaws.com/custom-dl-containers   <none>                                       7ed90e159120   41 minutes ago   2.9GB\n",
      "763104351884.dkr.ecr.us-west-2.amazonaws.com/tensorflow-training    2.8.0-gpu-py39-cu112-ubuntu20.04-sagemaker   8bfce0b7e5e6   5 weeks ago      10.3GB\n",
      "763104351884.dkr.ecr.us-west-2.amazonaws.com/tensorflow-training    2.8.0-cpu-py39-ubuntu20.04-e3                7140ced63766   6 weeks ago      2.9GB\n",
      "763104351884.dkr.ecr.us-west-2.amazonaws.com/tensorflow-training    2.8.0-gpu-py39-cu112-ubuntu20.04-e3          64aa64800002   6 weeks ago      9.24GB\n"
     ]
    }
   ],
   "source": [
    "!docker images"
   ]
  },
  {
   "cell_type": "code",
   "execution_count": null,
   "id": "angry-hawaiian",
   "metadata": {},
   "outputs": [],
   "source": []
  }
 ],
 "metadata": {
  "kernelspec": {
   "display_name": "Environment (conda_tensorflow2_p38)",
   "language": "python",
   "name": "conda_tensorflow2_p38"
  },
  "language_info": {
   "codemirror_mode": {
    "name": "ipython",
    "version": 3
   },
   "file_extension": ".py",
   "mimetype": "text/x-python",
   "name": "python",
   "nbconvert_exporter": "python",
   "pygments_lexer": "ipython3",
   "version": "3.8.12"
  }
 },
 "nbformat": 4,
 "nbformat_minor": 5
}
